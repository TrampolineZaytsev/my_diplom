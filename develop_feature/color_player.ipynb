{
 "cells": [
  {
   "cell_type": "code",
   "execution_count": 6,
   "metadata": {},
   "outputs": [],
   "source": [
    "import cv2\n",
    "import matplotlib.pyplot as plt\n",
    "import numpy as np\n",
    "from sklearn.cluster import KMeans"
   ]
  },
  {
   "cell_type": "markdown",
   "metadata": {},
   "source": [
    "подготовка изображения"
   ]
  },
  {
   "cell_type": "code",
   "execution_count": 7,
   "metadata": {},
   "outputs": [
    {
     "data": {
      "image/png": "[encoded data removed]",
      "text/plain": [
       "<Figure size 640x480 with 1 Axes>"
      ]
     },
     "metadata": {},
     "output_type": "display_data"
    }
   ],
   "source": [
    "img_path = \"../output_videos/crop_image.jpg\"\n",
    "image = cv2.imread(img_path)\n",
    "\n",
    "# преобразуем в нужное цвет. простр-во (из бгр в ргб)\n",
    "image = cv2.cvtColor(image, cv2.COLOR_BGR2RGB)\n",
    "\n",
    "# возьмем только вверх изображения\n",
    "hight_img = len(image)\n",
    "top_half_img = image[int(hight_img*0.19):int(hight_img*0.5), :]\n",
    "plt.imshow(top_half_img)\n",
    "plt.show()\n",
    "\n",
    "\n"
   ]
  },
  {
   "cell_type": "markdown",
   "metadata": {},
   "source": [
    "разобъем изображение на 2 цветовых кластера"
   ]
  },
  {
   "cell_type": "code",
   "execution_count": 8,
   "metadata": {},
   "outputs": [
    {
     "name": "stdout",
     "output_type": "stream",
     "text": [
      "0.12611607142857142\n",
      "698\n",
      "3217\n",
      "4480\n",
      "565\n"
     ]
    },
    {
     "data": {
      "text/plain": [
       "array([[1, 1, 1, ..., 1, 1, 1],\n",
       "       [1, 1, 1, ..., 1, 1, 1],\n",
       "       [1, 1, 1, ..., 1, 1, 1],\n",
       "       ...,\n",
       "       [0, 1, 1, ..., 1, 1, 1],\n",
       "       [0, 1, 1, ..., 1, 1, 1],\n",
       "       [0, 0, 0, ..., 1, 1, 1]], shape=(35, 128), dtype=int32)"
      ]
     },
     "execution_count": 8,
     "metadata": {},
     "output_type": "execute_result"
    },
    {
     "data": {
      "image/png": "[encoded data removed]",
      "text/plain": [
       "<Figure size 640x480 with 1 Axes>"
      ]
     },
     "metadata": {},
     "output_type": "display_data"
    }
   ],
   "source": [
    "# преобразуем изображение в массив точек\n",
    "img2d = top_half_img.reshape(-1, 3)\n",
    "\n",
    "# обучим модель кластеризации\n",
    "kmeans_model = KMeans(n_clusters=3, init=\"k-means++\", n_init=1,  random_state=42)\n",
    "kmeans_model.fit(img2d)\n",
    "\n",
    "#получим метки и преобразоем обратно в изображение\n",
    "labels = kmeans_model.labels_\n",
    "list_labels = list(labels)\n",
    "count_rarely_label = list_labels.count(min(list_labels, key=list_labels.count))\n",
    "count_often_label = list_labels.count(max(list_labels, key=list_labels.count))\n",
    "\n",
    "k_labels = count_rarely_label/len(labels)\n",
    "print(k_labels)\n",
    "print(list_labels.count(0))\n",
    "print(list_labels.count(1))\n",
    "print(len(labels))\n",
    "print(count_rarely_label)\n",
    "\n",
    "clastered_img = labels.reshape(top_half_img.shape[0], top_half_img.shape[1])\n",
    "plt.imshow(clastered_img)\n",
    "clastered_img\n",
    "\n",
    "\n"
   ]
  },
  {
   "cell_type": "code",
   "execution_count": 5,
   "metadata": {},
   "outputs": [
    {
     "name": "stdout",
     "output_type": "stream",
     "text": [
      "игрок 1 [69.06714286 54.48714286 63.71714286]\n",
      "фон 0 [183.39715536 171.38512035 174.68490153]\n",
      "<class 'numpy.ndarray'>\n",
      "[np.int32(0), np.int32(0), np.int32(0), np.int32(0)]\n"
     ]
    }
   ],
   "source": [
    "#посмотрим какой кластер является игроком\n",
    "#очевидно, что по углам изображения будет скорее всего фон\n",
    "corner_pixels = [clastered_img[0, 0], clastered_img[0, -1], clastered_img[-1, 0], clastered_img[-1, -1]]\n",
    "backgraund_label = max(corner_pixels, key=corner_pixels.count)\n",
    "#backgraund_label = max(list_labels, )\n",
    "player_label = 1 - backgraund_label\n",
    "\n",
    "# получим цвет игрока\n",
    "player_color = kmeans_model.cluster_centers_[player_label]\n",
    "backgraund_color = kmeans_model.cluster_centers_[backgraund_label]\n",
    "print(\"игрок\", player_label, player_color)\n",
    "print(\"фон\", backgraund_label, backgraund_color)\n",
    "\n",
    "print(type(kmeans_model.cluster_centers_[player_label]))\n",
    "\n",
    "print(corner_pixels)\n",
    "\n",
    "\n",
    "\n",
    "\n"
   ]
  },
  {
   "cell_type": "code",
   "execution_count": 5,
   "metadata": {},
   "outputs": [
    {
     "name": "stdout",
     "output_type": "stream",
     "text": [
      "[152.73388203 142.86899863 159.01971879]\n"
     ]
    }
   ],
   "source": [
    "# 2 способ определения фона\n",
    "# найдем фон, как самый яркий кластер \n",
    "centers = kmeans_model.cluster_centers_.tolist()\n",
    "backgraund_color = max(centers, key = lambda x: sum(x))\n",
    "backgraund_label = centers.index(backgraund_color)\n",
    "\n",
    "# найдем веса кластеров игрока (нужно для среднего взвешенного) \n",
    "labels = kmeans_model.labels_.tolist()\n",
    "label_pl1, label_pl2 = set(labels) - set([backgraund_label])\n",
    "w1, w2 = labels.count(label_pl1), labels.count(label_pl2)\n",
    "\n",
    "\n",
    "# смешиваем краски)\n",
    "pl_col = np.array([(i*w1 + j*w2)/(w1 + w2) for i, j in zip(centers[label_pl1], centers[label_pl2])])\n",
    "\n",
    "print(pl_col)\n"
   ]
  },
  {
   "cell_type": "code",
   "execution_count": 6,
   "metadata": {},
   "outputs": [
    {
     "data": {
      "text/plain": [
       "array([1], dtype=int32)"
      ]
     },
     "execution_count": 6,
     "metadata": {},
     "output_type": "execute_result"
    }
   ],
   "source": [
    "centers = np.array(centers)\n",
    "\n",
    "kmeans_model.predict(centers[1].reshape(1, -1))\n",
    "\n"
   ]
  },
  {
   "cell_type": "code",
   "execution_count": 15,
   "metadata": {},
   "outputs": [
    {
     "data": {
      "text/plain": [
       "[1323]"
      ]
     },
     "execution_count": 15,
     "metadata": {},
     "output_type": "execute_result"
    }
   ],
   "source": [
    "d = {1:{'bbox':[1323]}}\n",
    "d1 = {}\n",
    "d.get(1, {}).get('bbox', [])"
   ]
  },
  {
   "cell_type": "code",
   "execution_count": 4,
   "metadata": {},
   "outputs": [
    {
     "name": "stdout",
     "output_type": "stream",
     "text": [
      "[[], [], [], [], [], []]\n"
     ]
    }
   ],
   "source": [
    "Cated_frame = [[] for i in range(6)]\n",
    "print(Cated_frame)"
   ]
  },
  {
   "cell_type": "code",
   "execution_count": 1,
   "metadata": {},
   "outputs": [
    {
     "data": {
      "text/plain": [
       "'True'"
      ]
     },
     "execution_count": 1,
     "metadata": {},
     "output_type": "execute_result"
    }
   ],
   "source": [
    "str(3>2)"
   ]
  },
  {
   "cell_type": "code",
   "execution_count": null,
   "metadata": {},
   "outputs": [],
   "source": []
  }
 ],
 "metadata": {
  "kernelspec": {
   "display_name": "Python 3",
   "language": "python",
   "name": "python3"
  },
  "language_info": {
   "codemirror_mode": {
    "name": "ipython",
    "version": 3
   },
   "file_extension": ".py",
   "mimetype": "text/x-python",
   "name": "python",
   "nbconvert_exporter": "python",
   "pygments_lexer": "ipython3",
   "version": "3.11.9"
  }
 },
 "nbformat": 4,
 "nbformat_minor": 2
}
